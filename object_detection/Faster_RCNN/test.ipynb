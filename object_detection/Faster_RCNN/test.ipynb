{
 "cells": [
  {
   "cell_type": "code",
   "execution_count": 7,
   "metadata": {},
   "outputs": [
    {
     "name": "stdout",
     "output_type": "stream",
     "text": [
      "torch.Size([3, 3]) torch.Size([3, 3])\n",
      "torch.Size([2, 3, 3])\n",
      "torch.Size([3, 2, 3])\n"
     ]
    }
   ],
   "source": [
    "import torch\n",
    "\n",
    "a = torch.zeros(3,3)\n",
    "b = torch.zeros(3,3)\n",
    "print(a.shape, b.shape)\n",
    "print(torch.stack((a,b),dim=0).shape)\n",
    "print(torch.stack((a,b),dim=1).shape)\n"
   ]
  }
 ],
 "metadata": {
  "interpreter": {
   "hash": "9d723e051889932092c7c6b6e30b327207d0d4c8ce174bd9d85b0904c8454db2"
  },
  "kernelspec": {
   "display_name": "Python 3.7.0 ('torch1.8')",
   "language": "python",
   "name": "python3"
  },
  "language_info": {
   "codemirror_mode": {
    "name": "ipython",
    "version": 3
   },
   "file_extension": ".py",
   "mimetype": "text/x-python",
   "name": "python",
   "nbconvert_exporter": "python",
   "pygments_lexer": "ipython3",
   "version": "3.7.0"
  },
  "orig_nbformat": 4
 },
 "nbformat": 4,
 "nbformat_minor": 2
}
