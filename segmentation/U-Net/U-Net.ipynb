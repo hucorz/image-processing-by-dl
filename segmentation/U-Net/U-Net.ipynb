{
 "cells": [
  {
   "cell_type": "markdown",
   "metadata": {},
   "source": [
    "# U-Net"
   ]
  },
  {
   "cell_type": "code",
   "execution_count": 2,
   "metadata": {},
   "outputs": [
    {
     "name": "stdout",
     "output_type": "stream",
     "text": [
      "['cs3darknet_focus_l', 'cs3darknet_focus_m', 'cs3darknet_focus_s', 'cs3darknet_focus_x', 'deit3_huge_patch14_224', 'deit3_huge_patch14_224_in21ft1k', 'densenetblur121d', 'ecaresnet50d_pruned', 'ecaresnet101d_pruned', 'efficientnet_b1_pruned', 'efficientnet_b2_pruned', 'efficientnet_b3_pruned', 'efficientnet_el_pruned', 'efficientnet_es_pruned', 'gluon_inception_v3', 'gluon_resnet18_v1b', 'gluon_resnet34_v1b', 'gluon_resnet50_v1b', 'gluon_resnet50_v1c', 'gluon_resnet50_v1d', 'gluon_resnet50_v1s', 'gluon_resnet101_v1b', 'gluon_resnet101_v1c', 'gluon_resnet101_v1d', 'gluon_resnet101_v1s', 'gluon_resnet152_v1b', 'gluon_resnet152_v1c', 'gluon_resnet152_v1d', 'gluon_resnet152_v1s', 'gluon_resnext50_32x4d', 'gluon_resnext101_32x4d', 'gluon_resnext101_64x4d', 'gluon_senet154', 'gluon_seresnext50_32x4d', 'gluon_seresnext101_32x4d', 'gluon_seresnext101_64x4d', 'gluon_xception65', 'resnetblur18', 'resnetblur50', 'resnetblur50d', 'resnetblur101d', 'sequencer2d_l', 'sequencer2d_m', 'sequencer2d_s', 'swinv2_cr_huge_224', 'swinv2_cr_huge_384', 'vit_base_patch16_plus_240', 'vit_base_patch32_plus_256', 'vit_huge_patch14_224', 'vit_huge_patch14_224_in21k', 'vit_relpos_base_patch16_plus_240', 'vit_relpos_base_patch32_plus_rpn_256', 'vit_relpos_medium_patch16_224', 'vit_relpos_medium_patch16_cls_224', 'vit_relpos_medium_patch16_rpn_224', 'vit_srelpos_medium_patch16_224', 'xcit_medium_24_p8_224', 'xcit_medium_24_p8_224_dist', 'xcit_medium_24_p8_384_dist', 'xcit_medium_24_p16_224', 'xcit_medium_24_p16_224_dist', 'xcit_medium_24_p16_384_dist']\n"
     ]
    }
   ],
   "source": [
    "import timm\n",
    "print(timm.list_models(\"*u*\"))"
   ]
  }
 ],
 "metadata": {
  "kernelspec": {
   "display_name": "Python 3.8.13 ('kaggle')",
   "language": "python",
   "name": "python3"
  },
  "language_info": {
   "codemirror_mode": {
    "name": "ipython",
    "version": 3
   },
   "file_extension": ".py",
   "mimetype": "text/x-python",
   "name": "python",
   "nbconvert_exporter": "python",
   "pygments_lexer": "ipython3",
   "version": "3.8.13"
  },
  "orig_nbformat": 4,
  "vscode": {
   "interpreter": {
    "hash": "5e29bf3284fe4dea3ec57e8f0f97a51f6884dd7b70829d42ff2015b02473bfa4"
   }
  }
 },
 "nbformat": 4,
 "nbformat_minor": 2
}
