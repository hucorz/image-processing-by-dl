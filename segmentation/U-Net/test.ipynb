{
 "cells": [
  {
   "cell_type": "code",
   "execution_count": 2,
   "metadata": {},
   "outputs": [
    {
     "name": "stdout",
     "output_type": "stream",
     "text": [
      "[[0 0 0 ... 0 0 0]\n",
      " [0 0 0 ... 0 0 0]\n",
      " [0 0 0 ... 0 0 0]\n",
      " ...\n",
      " [0 0 0 ... 0 0 0]\n",
      " [0 0 0 ... 0 0 0]\n",
      " [0 0 0 ... 0 0 0]]\n",
      "(1280, 1918, 3)\n"
     ]
    }
   ],
   "source": [
    "from PIL import Image\n",
    "import matplotlib.pyplot as plt\n",
    "import numpy as np\n",
    "img1 = Image.open(\"0cdf5b5d0ce1_01_mask.gif\")\n",
    "img1 = np.array(img1)\n",
    "print(img1)\n",
    "img1 = Image.open(\"0cdf5b5d0ce1_01.jpg\")\n",
    "img1 = np.array(img1)\n",
    "# print(img1)\n",
    "print(img1.shape)"
   ]
  }
 ],
 "metadata": {
  "kernelspec": {
   "display_name": "Python 3.8.13 ('kaggle')",
   "language": "python",
   "name": "python3"
  },
  "language_info": {
   "codemirror_mode": {
    "name": "ipython",
    "version": 3
   },
   "file_extension": ".py",
   "mimetype": "text/x-python",
   "name": "python",
   "nbconvert_exporter": "python",
   "pygments_lexer": "ipython3",
   "version": "3.8.13"
  },
  "orig_nbformat": 4,
  "vscode": {
   "interpreter": {
    "hash": "5e29bf3284fe4dea3ec57e8f0f97a51f6884dd7b70829d42ff2015b02473bfa4"
   }
  }
 },
 "nbformat": 4,
 "nbformat_minor": 2
}
